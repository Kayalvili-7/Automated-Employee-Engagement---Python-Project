{
 "cells": [
  {
   "cell_type": "code",
   "execution_count": 2,
   "id": "833c77c6-bcea-4b37-9057-69893046762d",
   "metadata": {},
   "outputs": [
    {
     "name": "stdout",
     "output_type": "stream",
     "text": [
      "\n",
      "Riddle: What is seen in the middle of March and April that can’t be seen at the beginning or end of either month?\n"
     ]
    },
    {
     "name": "stdin",
     "output_type": "stream",
     "text": [
      "Your answer:  the letter r\n"
     ]
    },
    {
     "name": "stdout",
     "output_type": "stream",
     "text": [
      "Correct!\n"
     ]
    },
    {
     "name": "stdin",
     "output_type": "stream",
     "text": [
      "Do you want to play again? (yes/no):  yes\n"
     ]
    },
    {
     "name": "stdout",
     "output_type": "stream",
     "text": [
      "\n",
      "Riddle: I have cities, but no houses. I have mountains, but no trees. I have water, but no fish. What am I?\n"
     ]
    },
    {
     "name": "stdin",
     "output_type": "stream",
     "text": [
      "Your answer:  map\n"
     ]
    },
    {
     "name": "stdout",
     "output_type": "stream",
     "text": [
      "Correct!\n"
     ]
    },
    {
     "name": "stdin",
     "output_type": "stream",
     "text": [
      "Do you want to play again? (yes/no):  no\n"
     ]
    },
    {
     "name": "stdout",
     "output_type": "stream",
     "text": [
      "\n",
      "Your score: 100.00%\n"
     ]
    }
   ],
   "source": [
    "#Task 1\n",
    "\n",
    "import random\n",
    "\n",
    "def main():\n",
    "    # List of riddles and their answers\n",
    "    riddles = [\n",
    "        {\"question\": \"I speak without a mouth and hear without ears. I have no body, but I come alive with wind. What am I?\", \"answer\": \"echo\"},\n",
    "        {\"question\": \"You measure my life in hours and I serve you by expiring. I die when I’m devoured. What am I?\", \"answer\": \"candle\"},\n",
    "        {\"question\": \"I have cities, but no houses. I have mountains, but no trees. I have water, but no fish. What am I?\", \"answer\": \"map\"},\n",
    "        {\"question\": \"What is seen in the middle of March and April that can’t be seen at the beginning or end of either month?\", \"answer\": \"the letter r\"},\n",
    "        {\"question\": \"You see a boat filled with people. It has not sunk, but when you look again you don’t see a single person on the boat. Why?\", \"answer\": \"all the people were married\"}\n",
    "    ]\n",
    "    \n",
    "    correct_answers = 0\n",
    "    total_riddles = 0\n",
    "    \n",
    "    while True:\n",
    "        # Randomly select a riddle\n",
    "        riddle = random.choice(riddles)\n",
    "        print(\"\\nRiddle: \" + riddle[\"question\"])\n",
    "        \n",
    "        # Get the user's answer\n",
    "        user_answer = input(\"Your answer: \").strip().lower()\n",
    "        \n",
    "        # Check the user's answer\n",
    "        if user_answer == riddle[\"answer\"]:\n",
    "            print(\"Correct!\")\n",
    "            correct_answers += 1\n",
    "        else:\n",
    "            print(f\"Incorrect. The correct answer is: {riddle['answer']}\")\n",
    "        \n",
    "        total_riddles += 1\n",
    "        \n",
    "        # Ask the user if they want to play again\n",
    "        play_again = input(\"Do you want to play again? (yes/no): \").strip().lower()\n",
    "        if play_again != 'yes':\n",
    "            break\n",
    "    \n",
    "    # Calculate and display the user's score\n",
    "    if total_riddles > 0:\n",
    "        score_percentage = (correct_answers / total_riddles) * 100\n",
    "        print(f\"\\nYour score: {score_percentage:.2f}%\")\n",
    "    else:\n",
    "        print(\"\\nNo riddles were answered.\")\n",
    "\n",
    "if __name__ == \"__main__\":\n",
    "    main()\n",
    "\n",
    "#Interpretation: This Python code implements a riddle-guessing game.\n",
    "#It randomly selects riddles, prompts the user for answers, calculates the score, and allows multiple rounds of play."
   ]
  },
  {
   "cell_type": "code",
   "execution_count": null,
   "id": "168e56f5-c416-4248-a146-ddac4d63a5d3",
   "metadata": {},
   "outputs": [],
   "source": []
  },
  {
   "cell_type": "code",
   "execution_count": 3,
   "id": "a6e2eb19-26c5-4f46-8cdf-5e540106aeea",
   "metadata": {},
   "outputs": [
    {
     "name": "stdout",
     "output_type": "stream",
     "text": [
      "\n",
      "Solve the puzzle: 18 / 16\n"
     ]
    },
    {
     "name": "stdin",
     "output_type": "stream",
     "text": [
      "Your answer:  1.12\n"
     ]
    },
    {
     "name": "stdout",
     "output_type": "stream",
     "text": [
      "Incorrect. The correct answer is: 1.125\n"
     ]
    },
    {
     "name": "stdin",
     "output_type": "stream",
     "text": [
      "Do you want to play again? (yes/no):  yes\n"
     ]
    },
    {
     "name": "stdout",
     "output_type": "stream",
     "text": [
      "\n",
      "Solve the puzzle: 6 / 4\n"
     ]
    },
    {
     "name": "stdin",
     "output_type": "stream",
     "text": [
      "Your answer:  1.5\n"
     ]
    },
    {
     "name": "stdout",
     "output_type": "stream",
     "text": [
      "Correct!\n"
     ]
    },
    {
     "name": "stdin",
     "output_type": "stream",
     "text": [
      "Do you want to play again? (yes/no):  no\n"
     ]
    },
    {
     "name": "stdout",
     "output_type": "stream",
     "text": [
      "\n",
      "Your score: 50.00%\n"
     ]
    }
   ],
   "source": [
    "#Task 2\n",
    "\n",
    "import random\n",
    "\n",
    "def generate_puzzle():\n",
    "    num1 = random.randint(1, 20)\n",
    "    num2 = random.randint(1, 20)\n",
    "    operator = random.choice(['+', '-', '*', '/'])\n",
    "    return num1, num2, operator\n",
    "\n",
    "def solve_puzzle(num1, num2, operator):\n",
    "    if operator == '+':\n",
    "        return num1 + num2\n",
    "    elif operator == '-':\n",
    "        return num1 - num2\n",
    "    elif operator == '*':\n",
    "        return num1 * num2\n",
    "    elif operator == '/':\n",
    "        return num1 / num2\n",
    "\n",
    "def main():\n",
    "    correct_answers = 0\n",
    "    total_puzzles = 0\n",
    "    \n",
    "    while True:\n",
    "        num1, num2, operator = generate_puzzle()\n",
    "        if operator == '/' and num2 == 0:\n",
    "            continue  # avoid division by zero\n",
    "        \n",
    "        print(f\"\\nSolve the puzzle: {num1} {operator} {num2}\")\n",
    "        \n",
    "        while True:\n",
    "            try:\n",
    "                user_answer = float(input(\"Your answer: \"))\n",
    "                break\n",
    "            except ValueError:\n",
    "                print(\"Invalid input. Please enter a numeric value.\")\n",
    "        \n",
    "        correct_answer = solve_puzzle(num1, num2, operator)\n",
    "        \n",
    "        if abs(user_answer - correct_answer) < 0.001:  # tolerance for floating-point comparison\n",
    "            print(\"Correct!\")\n",
    "            correct_answers += 1\n",
    "        else:\n",
    "            print(f\"Incorrect. The correct answer is: {correct_answer}\")\n",
    "        \n",
    "        total_puzzles += 1\n",
    "        \n",
    "        play_again = input(\"Do you want to play again? (yes/no): \").strip().lower()\n",
    "        if play_again != 'yes':\n",
    "            break\n",
    "    \n",
    "    if total_puzzles > 0:\n",
    "        score_percentage = (correct_answers / total_puzzles) * 100\n",
    "        print(f\"\\nYour score: {score_percentage:.2f}%\")\n",
    "    else:\n",
    "        print(\"\\nNo puzzles were solved.\")\n",
    "\n",
    "if __name__ == \"__main__\":\n",
    "    main()\n",
    "\n",
    "#Interpretation: This Python code implements a random arithmetic-puzzle game. prompts the user to solve them, and calculates the user's score.\n",
    "#It handles potential division by zero and provides feedback on the user's answers."
   ]
  },
  {
   "cell_type": "code",
   "execution_count": null,
   "id": "be85a7c7-327d-4892-978e-f455fdcb5e98",
   "metadata": {},
   "outputs": [],
   "source": []
  },
  {
   "cell_type": "code",
   "execution_count": 1,
   "id": "897f9cae-fec0-4549-93e7-5ea95d97f30f",
   "metadata": {},
   "outputs": [
    {
     "name": "stdout",
     "output_type": "stream",
     "text": [
      "Welcome to the General Knowledge Quiz Game!\n",
      "Please select a category:\n",
      "1. Science\n",
      "2. Mathematics\n",
      "3. Geography\n",
      "4. Others\n"
     ]
    },
    {
     "name": "stdin",
     "output_type": "stream",
     "text": [
      "Enter your choice (1-4):  2\n"
     ]
    },
    {
     "name": "stdout",
     "output_type": "stream",
     "text": [
      "\n",
      "Question: What is 2 + 2?\n"
     ]
    },
    {
     "name": "stdin",
     "output_type": "stream",
     "text": [
      "Your answer:  4\n"
     ]
    },
    {
     "name": "stdout",
     "output_type": "stream",
     "text": [
      "Correct!\n",
      "\n",
      "Question: What is the value of π (pi) to two decimal places?\n"
     ]
    },
    {
     "name": "stdin",
     "output_type": "stream",
     "text": [
      "Your answer:  3.14\n"
     ]
    },
    {
     "name": "stdout",
     "output_type": "stream",
     "text": [
      "Correct!\n",
      "\n",
      "Question: What is the formula for the area of a circle?\n"
     ]
    },
    {
     "name": "stdin",
     "output_type": "stream",
     "text": [
      "Your answer:  area\n"
     ]
    },
    {
     "name": "stdout",
     "output_type": "stream",
     "text": [
      "Incorrect. The correct answer is: πr^2\n",
      "\n",
      "Quiz Summary:\n",
      "Total Questions: 3\n",
      "Correct Answers: 2\n",
      "Percentage: 66.67%\n"
     ]
    },
    {
     "name": "stdin",
     "output_type": "stream",
     "text": [
      "\n",
      "Do you want to play again? (yes/no):  no\n"
     ]
    },
    {
     "name": "stdout",
     "output_type": "stream",
     "text": [
      "\n",
      "Thank you for playing the General Knowledge Quiz Game!\n"
     ]
    }
   ],
   "source": [
    "#Task 3\n",
    "\n",
    "import random\n",
    "\n",
    "# List of questions in different categories\n",
    "science_questions = [\n",
    "    {\"question\": \"What is the chemical symbol for water?\", \"answer\": \"H2O\"},\n",
    "    {\"question\": \"What planet is known as the Red Planet?\", \"answer\": \"Mars\"},\n",
    "    {\"question\": \"What is the powerhouse of the cell?\", \"answer\": \"Mitochondria\"}\n",
    "]\n",
    "\n",
    "math_questions = [\n",
    "    {\"question\": \"What is 2 + 2?\", \"answer\": \"4\"},\n",
    "    {\"question\": \"What is the value of π (pi) to two decimal places?\", \"answer\": \"3.14\"},\n",
    "    {\"question\": \"What is the formula for the area of a circle?\", \"answer\": \"πr^2\"}\n",
    "]\n",
    "\n",
    "geography_questions = [\n",
    "    {\"question\": \"What is the capital of France?\", \"answer\": \"Paris\"},\n",
    "    {\"question\": \"What is the longest river in the world?\", \"answer\": \"Nile\"},\n",
    "    {\"question\": \"In which country would you find the Eiffel Tower?\", \"answer\": \"France\"}\n",
    "]\n",
    "\n",
    "others_questions = [\n",
    "    {\"question\": \"Who painted the Mona Lisa?\", \"answer\": \"Leonardo da Vinci\"},\n",
    "    {\"question\": \"Which gas do plants absorb from the atmosphere?\", \"answer\": \"Carbon dioxide\"},\n",
    "    {\"question\": \"What year did the Titanic sink?\", \"answer\": \"1912\"}\n",
    "]\n",
    "\n",
    "def ask_category():\n",
    "    #Present category options to the user and return their choice\n",
    "    print(\"Please select a category:\")\n",
    "    print(\"1. Science\")\n",
    "    print(\"2. Mathematics\")\n",
    "    print(\"3. Geography\")\n",
    "    print(\"4. Others\")\n",
    "    while True:\n",
    "        try:\n",
    "            choice = int(input(\"Enter your choice (1-4): \"))\n",
    "            if choice in range(1, 5):\n",
    "                return choice\n",
    "            else:\n",
    "                print(\"Invalid input! Please enter a number between 1 and 4.\")\n",
    "        except ValueError:\n",
    "            print(\"Invalid input! Please enter a number.\")\n",
    "\n",
    "def ask_question(question):\n",
    "    #Display a question and prompt the user for an answer\n",
    "    print(\"\\nQuestion: \" + question[\"question\"])\n",
    "    user_answer = input(\"Your answer: \").strip().lower()\n",
    "    return user_answer\n",
    "\n",
    "def check_answer(user_answer, correct_answer):\n",
    "    #Compare user's answer with correct answer and provide feedback \n",
    "    if user_answer == correct_answer.lower():\n",
    "        print(\"Correct!\")\n",
    "        return True\n",
    "    else:\n",
    "        print(f\"Incorrect. The correct answer is: {correct_answer}\")\n",
    "        return False\n",
    "\n",
    "def display_score(total_questions, correct_answers):\n",
    "    #Print a summary of the player's performance \n",
    "    print(\"\\nQuiz Summary:\")\n",
    "    print(f\"Total Questions: {total_questions}\")\n",
    "    print(f\"Correct Answers: {correct_answers}\")\n",
    "    percentage = (correct_answers / total_questions) * 100\n",
    "    print(f\"Percentage: {percentage:.2f}%\")\n",
    "\n",
    "def exec_questions(questions):\n",
    "    #Iterate through a set of questions and handle user interactions \n",
    "    total_questions = len(questions)\n",
    "    correct_answers = 0\n",
    "    for question in questions:\n",
    "        user_answer = ask_question(question)\n",
    "        if check_answer(user_answer, question[\"answer\"]):\n",
    "            correct_answers += 1\n",
    "    display_score(total_questions, correct_answers)\n",
    "\n",
    "def play_game():\n",
    "    # Main game loop managing category selection and question execution \n",
    "    print(\"Welcome to the General Knowledge Quiz Game!\")\n",
    "    try:\n",
    "        while True:\n",
    "            category_choice = ask_category()\n",
    "            if category_choice == 1:\n",
    "                exec_questions(science_questions)\n",
    "            elif category_choice == 2:\n",
    "                exec_questions(math_questions)\n",
    "            elif category_choice == 3:\n",
    "                exec_questions(geography_questions)\n",
    "            elif category_choice == 4:\n",
    "                exec_questions(others_questions)\n",
    "            else:\n",
    "                print(\"Invalid choice! Please try again.\")\n",
    "            play_again = input(\"\\nDo you want to play again? (yes/no): \").strip().lower()\n",
    "            if play_again != \"yes\":\n",
    "                break\n",
    "    except Exception as e:\n",
    "        print(f\"An error occurred: {e}\")\n",
    "\n",
    "if __name__ == \"__main__\":\n",
    "    play_game()\n",
    "    print(\"\\nThank you for playing the General Knowledge Quiz Game!\")\n",
    "\n",
    "#Interpretation: This Python code implements a quiz game with different categories.\n",
    "#It allows users to select a category, answer random questions based on the choice entered, and displays feedback on their performance."
   ]
  },
  {
   "cell_type": "code",
   "execution_count": null,
   "id": "cd5b22aa-1446-4570-bdc1-4c9be34fc91f",
   "metadata": {},
   "outputs": [],
   "source": []
  },
  {
   "cell_type": "code",
   "execution_count": 10,
   "id": "3d8adcce-0036-4b0c-b223-b4de5f799e61",
   "metadata": {},
   "outputs": [
    {
     "name": "stdin",
     "output_type": "stream",
     "text": [
      "Choose Rock, Paper, or Scissors:  Rock\n"
     ]
    },
    {
     "name": "stdout",
     "output_type": "stream",
     "text": [
      "\n",
      "Player 1 (Computer): scissors\n",
      "Player 2 (You): rock\n",
      "You Win!\n"
     ]
    },
    {
     "name": "stdin",
     "output_type": "stream",
     "text": [
      "Play again? (y/n):  y\n",
      "Choose Rock, Paper, or Scissors:  Paper\n"
     ]
    },
    {
     "name": "stdout",
     "output_type": "stream",
     "text": [
      "\n",
      "Player 1 (Computer): rock\n",
      "Player 2 (You): paper\n",
      "You Win!\n"
     ]
    },
    {
     "name": "stdin",
     "output_type": "stream",
     "text": [
      "Play again? (y/n):  n\n"
     ]
    }
   ],
   "source": [
    "#Task 4\n",
    "\n",
    "import random\n",
    "\n",
    "# Define possible choices\n",
    "#choices = [\"Rock\", \"Paper\", \"Scissors\"]\n",
    "\n",
    "def get_computer_choice():# Generates a random choice for the computer (Player 1).\n",
    "   \n",
    "    return random.choice(['rock', 'paper', 'scissors'])\n",
    "\n",
    "def get_user_choice():\n",
    "  #Gets the user's choice (Player 2).\n",
    "  while True:\n",
    "    user_choice = input(\"Choose Rock, Paper, or Scissors: \").lower()\n",
    "    if user_choice in ['rock', 'paper', 'scissors']:\n",
    "        return user_choice\n",
    "    else:\n",
    "        print(\"Invalid choice. Please try again.\")\n",
    "\n",
    "def determine_winner(user_choice, computer_choice):\n",
    "  #Determines the winner based on the choices.\n",
    "  if user_choice == computer_choice:\n",
    "    return \"Tie\"\n",
    "  elif user_choice == \"rock\":\n",
    "    if computer_choice == \"scissors\":\n",
    "      return \"You Win!\"\n",
    "    else:\n",
    "      return \"You Lose!\"\n",
    "  elif user_choice == \"paper\":\n",
    "    if computer_choice == \"rock\":\n",
    "      return \"You Win!\"\n",
    "    else:\n",
    "      return \"You Lose!\"\n",
    "  elif user_choice == \"scissors\":\n",
    "    if computer_choice == \"paper\":\n",
    "      return \"You Win!\"\n",
    "    else:\n",
    "      return \"You Lose!\"\n",
    "\n",
    "def play_again():\n",
    "  #Asks the user if they want to play again.\n",
    "  while True:\n",
    "    choice = input(\"Play again? (y/n): \").lower()\n",
    "    if choice == 'y':\n",
    "      return True\n",
    "    elif choice == 'n':\n",
    "      return False\n",
    "    else:\n",
    "      print(\"Invalid input. Please enter 'y' or 'n'.\")\n",
    "\n",
    "def main():\n",
    "  #Runs the main game loop.\n",
    "  while True:\n",
    "    computer_choice = get_computer_choice()\n",
    "    user_choice = get_user_choice()\n",
    "    winner = determine_winner(user_choice, computer_choice)\n",
    "\n",
    "    print(f\"\\nPlayer 1 (Computer): {computer_choice}\")\n",
    "    print(f\"Player 2 (You): {user_choice}\")\n",
    "    print(winner)\n",
    "\n",
    "    if not play_again():\n",
    "      break\n",
    "\n",
    "if __name__ == \"__main__\":\n",
    "  main()\n",
    "\n",
    "#Interpretation: This Python code simulates a Rock-Paper-Scissors game against the computer,  prompts the user to choose, based on the choices of \n",
    "#user and computer,provides feedback of who win's."
   ]
  },
  {
   "cell_type": "raw",
   "id": "40aeec1f-2ce7-42d5-9180-1ab0340739c5",
   "metadata": {},
   "source": []
  },
  {
   "cell_type": "code",
   "execution_count": 16,
   "id": "bf1969aa-32b6-4f3c-aeb7-5b86031a8bfc",
   "metadata": {},
   "outputs": [
    {
     "name": "stdout",
     "output_type": "stream",
     "text": [
      "Welcome to Rock-Paper-Scissors!\n"
     ]
    },
    {
     "name": "stdin",
     "output_type": "stream",
     "text": [
      "Enter name for Player 1:  J\n",
      "Enter name for Player 2:  S\n"
     ]
    },
    {
     "name": "stdout",
     "output_type": "stream",
     "text": [
      "\n",
      "Make your choices:\n"
     ]
    },
    {
     "name": "stdin",
     "output_type": "stream",
     "text": [
      "J, enter your choice (rock/paper/scissors):  Rock\n",
      "S, enter your choice (rock/paper/scissors):  Rock\n"
     ]
    },
    {
     "name": "stdout",
     "output_type": "stream",
     "text": [
      "\n",
      "Choices of the gamers:\n",
      "J chose: rock\n",
      "S chose: rock\n",
      "\n",
      "It's a tie!\n"
     ]
    }
   ],
   "source": [
    "#Task 5\n",
    "\n",
    "def get_player_choice(player_name):\n",
    "    while True:\n",
    "        choice = input(f\"{player_name}, enter your choice (rock/paper/scissors): \").lower()\n",
    "        if choice in ['rock', 'paper', 'scissors']:\n",
    "            return choice\n",
    "        else:\n",
    "            print(\"Invalid choice. Please try again.\")\n",
    "\n",
    "def determine_winner(choice1, choice2):\n",
    "    if choice1 == choice2:\n",
    "        return \"It's a tie!\"\n",
    "    elif (\n",
    "        (choice1 == 'rock' and choice2 == 'scissors') or\n",
    "        (choice1 == 'paper' and choice2 == 'rock') or\n",
    "        (choice1 == 'scissors' and choice2 == 'paper')\n",
    "    ):\n",
    "        return \"Player 1 wins!\"\n",
    "    else:\n",
    "        return \"Player 2 wins!\"\n",
    "\n",
    "def play_game():\n",
    "    # Get player names\n",
    "    player1_name = input(\"Enter name for Player 1: \")\n",
    "    player2_name = input(\"Enter name for Player 2: \")\n",
    "\n",
    "    # Get player choices\n",
    "    print(\"\\nMake your choices:\")\n",
    "    player1_choice = get_player_choice(player1_name)\n",
    "    player2_choice = get_player_choice(player2_name)\n",
    "\n",
    "    # Determine and display the winner\n",
    "    print(\"\\nChoices of the gamers:\")\n",
    "    print(f\"{player1_name} chose: {player1_choice}\")\n",
    "    print(f\"{player2_name} chose: {player2_choice}\")\n",
    "\n",
    "    result = determine_winner(player1_choice, player2_choice)\n",
    "    \n",
    "    if result == \"Player 1 wins!\":\n",
    "        print(f\"\\n{player1_name} wins!\")\n",
    "    elif result == \"Player 2 wins!\":\n",
    "        print(f\"\\n{player2_name} wins!\")\n",
    "    else:\n",
    "        print(\"\\nIt's a tie!\")\n",
    "\n",
    "if __name__ == \"__main__\":\n",
    "    print(\"Welcome to Rock-Paper-Scissors!\")\n",
    "    play_game()\n",
    "\n",
    "#Interpretation: This Python code implements a two-player Rock-Paper-Scissors game,\n",
    "#allowing players to enter their names and choices, determining the winner based on the conditions."
   ]
  },
  {
   "cell_type": "code",
   "execution_count": null,
   "id": "b937e1d1-c81a-4761-9c0a-f226ea9df282",
   "metadata": {},
   "outputs": [],
   "source": [
    "# Project 2"
   ]
  },
  {
   "cell_type": "code",
   "execution_count": 2,
   "id": "26cda5b5-7268-4b69-8435-1c4c2868699c",
   "metadata": {},
   "outputs": [
    {
     "name": "stdout",
     "output_type": "stream",
     "text": [
      "Welcome to the Word Guessing Game!\n",
      "You have 5 attempts to guess the word.\n",
      "The word has 9 letters.\n",
      "\n",
      "Attempts left: 5\n"
     ]
    },
    {
     "name": "stdin",
     "output_type": "stream",
     "text": [
      "Enter your guess (a single letter or the whole word):  p\n"
     ]
    },
    {
     "name": "stdout",
     "output_type": "stream",
     "text": [
      "Correct letter!\n",
      "\n",
      "Attempts left: 4\n"
     ]
    },
    {
     "name": "stdin",
     "output_type": "stream",
     "text": [
      "Enter your guess (a single letter or the whole word):  pineapple\n"
     ]
    },
    {
     "name": "stdout",
     "output_type": "stream",
     "text": [
      "Invalid input. Please enter a valid single letter or the whole word.\n",
      "\n",
      "Attempts left: 3\n"
     ]
    },
    {
     "name": "stdin",
     "output_type": "stream",
     "text": [
      "Enter your guess (a single letter or the whole word):  raspberry\n"
     ]
    },
    {
     "name": "stdout",
     "output_type": "stream",
     "text": [
      "\n",
      "Congratulations! You guessed the word 'raspberry' correctly!\n"
     ]
    }
   ],
   "source": [
    "#Task 1\n",
    "\n",
    "import random\n",
    "\n",
    "# List of words\n",
    "word_list = [\"apple\", \"banana\", \"cherry\", \"orange\", \"grape\", \"pineapple\", \"strawbperry\", \"blueberry\", \"raspberry\"]\n",
    "\n",
    "def select_word():\n",
    "    # Randomly select a word from the word_list\n",
    "    return random.choice(word_list)\n",
    "\n",
    "def display_word_length(word):\n",
    "    # Display the number of letters in the word\n",
    "    print(f\"The word has {len(word)} letters.\")\n",
    "\n",
    "def guess_word(secret_word):\n",
    "    guesses = 0\n",
    "    max_guesses = 5\n",
    "    guessed = False\n",
    "    guessed_letters = []\n",
    "\n",
    "    print(\"Welcome to the Word Guessing Game!\")\n",
    "    print(\"You have 5 attempts to guess the word.\")\n",
    "    display_word_length(secret_word)\n",
    "\n",
    "    while guesses < max_guesses and not guessed:\n",
    "        print(\"\\nAttempts left:\", max_guesses - guesses)\n",
    "        guess = input(\"Enter your guess (a single letter or the whole word): \").lower()\n",
    "\n",
    "        if guess == secret_word:\n",
    "            guessed = True\n",
    "        elif len(guess) == 1 and guess.isalpha():\n",
    "            if guess in guessed_letters:\n",
    "                print(\"You've already guessed that letter. Try again.\")\n",
    "                continue\n",
    "            guessed_letters.append(guess)\n",
    "            if guess in secret_word:\n",
    "                print(\"Correct letter!\")\n",
    "            else:\n",
    "                print(\"Incorrect letter.\")\n",
    "        else:\n",
    "            print(\"Invalid input. Please enter a valid single letter or the whole word.\")\n",
    "\n",
    "        guesses += 1\n",
    "\n",
    "    if guessed:\n",
    "        print(f\"\\nCongratulations! You guessed the word '{secret_word}' correctly!\")\n",
    "    else:\n",
    "        print(f\"\\nSorry, you've run out of attempts. The word was '{secret_word}'.\")\n",
    "\n",
    "# Main function to run the game\n",
    "def main():\n",
    "    secret_word = select_word()\n",
    "    guess_word(secret_word)\n",
    "\n",
    "if __name__ == \"__main__\":\n",
    "    main()\n",
    "\n",
    "#Interpretation: This Python code implements a word guessing game. It randomly selects a word from a list,\n",
    "# provides clues based on the number of letters, and allows the player to guess the word within a limited number of attempts and \n",
    "#provides feedback for the guessed word or letter."
   ]
  },
  {
   "cell_type": "code",
   "execution_count": null,
   "id": "f6de2f34-c55b-4aa9-be7d-e3553194e096",
   "metadata": {},
   "outputs": [],
   "source": []
  },
  {
   "cell_type": "code",
   "execution_count": 7,
   "id": "4184e986-8227-4dfe-8103-9d25811304fe",
   "metadata": {},
   "outputs": [
    {
     "name": "stdout",
     "output_type": "stream",
     "text": [
      "Welcome to the Game Menu!\n",
      "1. Play Riddle Puzzle\n",
      "2. Play Arithmetic Puzzle\n",
      "3. Play General Knowledge Quiz Game\n",
      "4. Play Rock-Paper-Scissors Game with Computer\n",
      "5. Play Rock-Paper-Scissors Game with User\n",
      "6. Play Word-Guessing Game with Computer\n",
      "Enter any option by typing a number between 1 and 6.\n"
     ]
    },
    {
     "name": "stdin",
     "output_type": "stream",
     "text": [
      "Enter your choice (1-6):  4\n"
     ]
    },
    {
     "name": "stdout",
     "output_type": "stream",
     "text": [
      "Executing Rock-Paper-Scissors Game with Computer...\n"
     ]
    },
    {
     "name": "stdin",
     "output_type": "stream",
     "text": [
      "Choose Rock, Paper, or Scissors:  rock\n"
     ]
    },
    {
     "name": "stdout",
     "output_type": "stream",
     "text": [
      "\n",
      "Player 1 (Computer): rock\n",
      "Player 2 (You): rock\n",
      "Tie\n"
     ]
    },
    {
     "name": "stdin",
     "output_type": "stream",
     "text": [
      "Play again? (y/n):  n\n",
      "Do you want to play another game? (Y/y for yes, N/n for no):  y\n"
     ]
    },
    {
     "name": "stdout",
     "output_type": "stream",
     "text": [
      "Welcome to the Game Menu!\n",
      "1. Play Riddle Puzzle\n",
      "2. Play Arithmetic Puzzle\n",
      "3. Play General Knowledge Quiz Game\n",
      "4. Play Rock-Paper-Scissors Game with Computer\n",
      "5. Play Rock-Paper-Scissors Game with User\n",
      "6. Play Word-Guessing Game with Computer\n",
      "Enter any option by typing a number between 1 and 6.\n"
     ]
    },
    {
     "name": "stdin",
     "output_type": "stream",
     "text": [
      "Enter your choice (1-6):  5\n"
     ]
    },
    {
     "name": "stdout",
     "output_type": "stream",
     "text": [
      "Executing Rock-Paper-Scissors Game with User...\n",
      "Welcome to Rock-Paper-Scissors!\n"
     ]
    },
    {
     "name": "stdin",
     "output_type": "stream",
     "text": [
      "Enter name for Player 1:  Sai\n",
      "Enter name for Player 2:  Jai\n"
     ]
    },
    {
     "name": "stdout",
     "output_type": "stream",
     "text": [
      "\n",
      "Make your choices:\n"
     ]
    },
    {
     "name": "stdin",
     "output_type": "stream",
     "text": [
      "Sai, enter your choice (rock/paper/scissors):  rock\n",
      "Jai, enter your choice (rock/paper/scissors):  paper\n"
     ]
    },
    {
     "name": "stdout",
     "output_type": "stream",
     "text": [
      "\n",
      "Choices of the gamers:\n",
      "Sai chose: rock\n",
      "Jai chose: paper\n",
      "\n",
      "Jai wins!\n"
     ]
    },
    {
     "name": "stdin",
     "output_type": "stream",
     "text": [
      "Do you want to play another game? (Y/y for yes, N/n for no):  y\n"
     ]
    },
    {
     "name": "stdout",
     "output_type": "stream",
     "text": [
      "Welcome to the Game Menu!\n",
      "1. Play Riddle Puzzle\n",
      "2. Play Arithmetic Puzzle\n",
      "3. Play General Knowledge Quiz Game\n",
      "4. Play Rock-Paper-Scissors Game with Computer\n",
      "5. Play Rock-Paper-Scissors Game with User\n",
      "6. Play Word-Guessing Game with Computer\n",
      "Enter any option by typing a number between 1 and 6.\n"
     ]
    },
    {
     "name": "stdin",
     "output_type": "stream",
     "text": [
      "Enter your choice (1-6):  6\n"
     ]
    },
    {
     "name": "stdout",
     "output_type": "stream",
     "text": [
      "Executing Word-Guessing Game with Computer...\n",
      "Welcome to the Word Guessing Game!\n",
      "You have 5 attempts to guess the word.\n",
      "The word has 5 letters.\n",
      "\n",
      "Attempts left: 5\n"
     ]
    },
    {
     "name": "stdin",
     "output_type": "stream",
     "text": [
      "Enter your guess (a single letter or the whole word):  a\n"
     ]
    },
    {
     "name": "stdout",
     "output_type": "stream",
     "text": [
      "Correct letter!\n",
      "\n",
      "Attempts left: 4\n"
     ]
    },
    {
     "name": "stdin",
     "output_type": "stream",
     "text": [
      "Enter your guess (a single letter or the whole word):  apple\n"
     ]
    },
    {
     "name": "stdout",
     "output_type": "stream",
     "text": [
      "Invalid input. Please enter a valid single letter or the whole word.\n",
      "\n",
      "Attempts left: 3\n"
     ]
    },
    {
     "name": "stdin",
     "output_type": "stream",
     "text": [
      "Enter your guess (a single letter or the whole word):  a\n"
     ]
    },
    {
     "name": "stdout",
     "output_type": "stream",
     "text": [
      "You've already guessed that letter. Try again.\n",
      "\n",
      "Attempts left: 3\n"
     ]
    },
    {
     "name": "stdin",
     "output_type": "stream",
     "text": [
      "Enter your guess (a single letter or the whole word):  pple\n"
     ]
    },
    {
     "name": "stdout",
     "output_type": "stream",
     "text": [
      "Invalid input. Please enter a valid single letter or the whole word.\n",
      "\n",
      "Attempts left: 2\n"
     ]
    },
    {
     "name": "stdin",
     "output_type": "stream",
     "text": [
      "Enter your guess (a single letter or the whole word):  p\n"
     ]
    },
    {
     "name": "stdout",
     "output_type": "stream",
     "text": [
      "Correct letter!\n",
      "\n",
      "Attempts left: 1\n"
     ]
    },
    {
     "name": "stdin",
     "output_type": "stream",
     "text": [
      "Enter your guess (a single letter or the whole word):  p\n"
     ]
    },
    {
     "name": "stdout",
     "output_type": "stream",
     "text": [
      "You've already guessed that letter. Try again.\n",
      "\n",
      "Attempts left: 1\n"
     ]
    },
    {
     "name": "stdin",
     "output_type": "stream",
     "text": [
      "Enter your guess (a single letter or the whole word):  l\n"
     ]
    },
    {
     "name": "stdout",
     "output_type": "stream",
     "text": [
      "Incorrect letter.\n",
      "\n",
      "Sorry, you've run out of attempts. The word was 'grape'.\n"
     ]
    },
    {
     "name": "stdin",
     "output_type": "stream",
     "text": [
      "Do you want to play another game? (Y/y for yes, N/n for no):  y\n"
     ]
    },
    {
     "name": "stdout",
     "output_type": "stream",
     "text": [
      "Welcome to the Game Menu!\n",
      "1. Play Riddle Puzzle\n",
      "2. Play Arithmetic Puzzle\n",
      "3. Play General Knowledge Quiz Game\n",
      "4. Play Rock-Paper-Scissors Game with Computer\n",
      "5. Play Rock-Paper-Scissors Game with User\n",
      "6. Play Word-Guessing Game with Computer\n",
      "Enter any option by typing a number between 1 and 6.\n"
     ]
    },
    {
     "name": "stdin",
     "output_type": "stream",
     "text": [
      "Enter your choice (1-6):  6\n"
     ]
    },
    {
     "name": "stdout",
     "output_type": "stream",
     "text": [
      "Executing Word-Guessing Game with Computer...\n",
      "Welcome to the Word Guessing Game!\n",
      "You have 5 attempts to guess the word.\n",
      "The word has 11 letters.\n",
      "\n",
      "Attempts left: 5\n"
     ]
    },
    {
     "name": "stdin",
     "output_type": "stream",
     "text": [
      "Enter your guess (a single letter or the whole word):  a\n"
     ]
    },
    {
     "name": "stdout",
     "output_type": "stream",
     "text": [
      "Correct letter!\n",
      "\n",
      "Attempts left: 4\n"
     ]
    },
    {
     "name": "stdin",
     "output_type": "stream",
     "text": [
      "Enter your guess (a single letter or the whole word):  p\n"
     ]
    },
    {
     "name": "stdout",
     "output_type": "stream",
     "text": [
      "Correct letter!\n",
      "\n",
      "Attempts left: 3\n"
     ]
    },
    {
     "name": "stdin",
     "output_type": "stream",
     "text": [
      "Enter your guess (a single letter or the whole word):  e\n"
     ]
    },
    {
     "name": "stdout",
     "output_type": "stream",
     "text": [
      "Correct letter!\n",
      "\n",
      "Attempts left: 2\n"
     ]
    },
    {
     "name": "stdin",
     "output_type": "stream",
     "text": [
      "Enter your guess (a single letter or the whole word):  r\n"
     ]
    },
    {
     "name": "stdout",
     "output_type": "stream",
     "text": [
      "Correct letter!\n",
      "\n",
      "Attempts left: 1\n"
     ]
    },
    {
     "name": "stdin",
     "output_type": "stream",
     "text": [
      "Enter your guess (a single letter or the whole word):  g\n"
     ]
    },
    {
     "name": "stdout",
     "output_type": "stream",
     "text": [
      "Incorrect letter.\n",
      "\n",
      "Sorry, you've run out of attempts. The word was 'strawbperry'.\n"
     ]
    },
    {
     "name": "stdin",
     "output_type": "stream",
     "text": [
      "Do you want to play another game? (Y/y for yes, N/n for no):  n\n"
     ]
    }
   ],
   "source": [
    "#Task 2\n",
    "\n",
    "import random\n",
    "\n",
    "class GameMenu:\n",
    "    @staticmethod\n",
    "    def menu():\n",
    "        print(\"Welcome to the Game Menu!\")\n",
    "        print(\"1. Play Riddle Puzzle\")\n",
    "        print(\"2. Play Arithmetic Puzzle\")\n",
    "        print(\"3. Play General Knowledge Quiz Game\")\n",
    "        print(\"4. Play Rock-Paper-Scissors Game with Computer\")\n",
    "        print(\"5. Play Rock-Paper-Scissors Game with User\")\n",
    "        print(\"6. Play Word-Guessing Game with Computer\")\n",
    "        print(\"Enter any option by typing a number between 1 and 6.\")\n",
    "\n",
    "    @staticmethod\n",
    "    def play_riddle_puzzle():\n",
    "        print(\"Executing Riddle Puzzle...\")\n",
    "        def main():\n",
    "            riddles = [\n",
    "                {\"question\": \"I speak without a mouth and hear without ears. I have no body, but I come alive with wind. What am I?\", \"answer\": \"echo\"},\n",
    "                {\"question\": \"You measure my life in hours and I serve you by expiring. I die when I’m devoured. What am I?\", \"answer\": \"candle\"},\n",
    "                {\"question\": \"I have cities, but no houses. I have mountains, but no trees. I have water, but no fish. What am I?\", \"answer\": \"map\"},\n",
    "                {\"question\": \"What is seen in the middle of March and April that can’t be seen at the beginning or end of either month?\", \"answer\": \"the letter r\"},\n",
    "                {\"question\": \"You see a boat filled with people. It has not sunk, but when you look again you don’t see a single person on the boat. Why?\", \"answer\": \"all the people were married\"}\n",
    "            ]\n",
    "            correct_answers = 0\n",
    "            total_riddles = 0\n",
    "            while True:\n",
    "                riddle = random.choice(riddles)\n",
    "                print(\"\\nRiddle: \" + riddle[\"question\"])\n",
    "                user_answer = input(\"Your answer: \").strip().lower()\n",
    "                \n",
    "                if user_answer == riddle[\"answer\"]:\n",
    "                    print(\"Correct!\")\n",
    "                    correct_answers += 1\n",
    "                else:\n",
    "                    print(f\"Incorrect. The correct answer is: {riddle['answer']}\")\n",
    "                total_riddles += 1\n",
    "                play_again = input(\"Do you want to play again? (yes/no): \").strip().lower()\n",
    "                if play_again != 'yes':\n",
    "                    break\n",
    "            if total_riddles > 0:\n",
    "                score_percentage = (correct_answers / total_riddles) * 100\n",
    "                print(f\"\\nYour score: {score_percentage:.2f}%\")\n",
    "            else:\n",
    "                print(\"\\nNo riddles were answered.\")\n",
    "        if __name__ == \"__main__\":\n",
    "            main()\n",
    "    \n",
    "\n",
    "    @staticmethod\n",
    "    def play_arithmetic_puzzle():\n",
    "        print(\"Executing Arithmetic Puzzle...\")\n",
    "        def generate_puzzle():\n",
    "            num1 = random.randint(1, 20)\n",
    "            num2 = random.randint(1, 20)\n",
    "            operator = random.choice(['+', '-', '*', '/'])\n",
    "            return num1, num2, operator\n",
    "        def solve_puzzle(num1, num2, operator):\n",
    "            if operator == '+':\n",
    "                return num1 + num2\n",
    "            elif operator == '-':\n",
    "                return num1 - num2\n",
    "            elif operator == '*':\n",
    "                return num1 * num2\n",
    "            elif operator == '/':\n",
    "                return num1 / num2\n",
    "        def main():\n",
    "            correct_answers = 0\n",
    "            total_puzzles = 0\n",
    "            while True:\n",
    "                num1, num2, operator = generate_puzzle()\n",
    "                if operator == '/' and num2 == 0:\n",
    "                    continue  # avoid division by zero\n",
    "                print(f\"\\nSolve the puzzle: {num1} {operator} {num2}\")\n",
    "                while True:\n",
    "                    try:\n",
    "                        user_answer = float(input(\"Your answer: \"))\n",
    "                        break\n",
    "                    except ValueError:\n",
    "                        print(\"Invalid input. Please enter a numeric value.\")\n",
    "                correct_answer = solve_puzzle(num1, num2, operator)\n",
    "                if abs(user_answer - correct_answer) < 0.001:  # tolerance for floating-point comparison\n",
    "                    print(\"Correct!\")\n",
    "                    correct_answers += 1\n",
    "                else:\n",
    "                    print(f\"Incorrect. The correct answer is: {correct_answer}\")\n",
    "                total_puzzles += 1\n",
    "                play_again = input(\"Do you want to play again? (yes/no): \").strip().lower()\n",
    "                if play_again != 'yes':\n",
    "                    break\n",
    "            if total_puzzles > 0:\n",
    "                score_percentage = (correct_answers / total_puzzles) * 100\n",
    "                print(f\"\\nYour score: {score_percentage:.2f}%\")\n",
    "            else:\n",
    "                print(\"\\nNo puzzles were solved.\")\n",
    "        if __name__ == \"__main__\":\n",
    "            main()\n",
    "        \n",
    "\n",
    "    @staticmethod\n",
    "    def play_general_knowledge_quiz():\n",
    "        print(\"Executing General Knowledge Quiz Game...\")\n",
    "        science_questions = [{\"question\": \"What is the chemical symbol for water?\", \"answer\": \"H2O\"},\n",
    "                             {\"question\": \"What planet is known as the Red Planet?\", \"answer\": \"Mars\"},\n",
    "                             {\"question\": \"What is the powerhouse of the cell?\", \"answer\": \"Mitochondria\"}]\n",
    "        math_questions = [{\"question\": \"What is 2 + 2?\", \"answer\": \"4\"},\n",
    "                          {\"question\": \"What is the value of π (pi) to two decimal places?\", \"answer\": \"3.14\"},\n",
    "                          {\"question\": \"What is the formula for the area of a circle?\", \"answer\": \"πr^2\"}]\n",
    "        geography_questions = [{\"question\": \"What is the capital of France?\", \"answer\": \"Paris\"},\n",
    "                               {\"question\": \"What is the longest river in the world?\", \"answer\": \"Nile\"},\n",
    "                               {\"question\": \"In which country would you find the Eiffel Tower?\", \"answer\": \"France\"}]\n",
    "        others_questions = [{\"question\": \"Who painted the Mona Lisa?\", \"answer\": \"Leonardo da Vinci\"},\n",
    "                            {\"question\": \"Which gas do plants absorb from the atmosphere?\", \"answer\": \"Carbon dioxide\"},\n",
    "                            {\"question\": \"What year did the Titanic sink?\", \"answer\": \"1912\"}]\n",
    "        \n",
    "        def ask_category():\n",
    "            print(\"Please select a category:\")\n",
    "            print(\"1. Science\")\n",
    "            print(\"2. Mathematics\")\n",
    "            print(\"3. Geography\")\n",
    "            print(\"4. Others\")\n",
    "            while True:\n",
    "                try:\n",
    "                    choice = int(input(\"Enter your choice (1-4): \"))\n",
    "                    if choice in range(1, 5):\n",
    "                        return choice\n",
    "                    else:\n",
    "                        print(\"Invalid input! Please enter a number between 1 and 4.\")\n",
    "                except ValueError:\n",
    "                    print(\"Invalid input! Please enter a number.\")\n",
    "                    \n",
    "        def ask_question(question):\n",
    "            print(\"\\nQuestion: \" + question[\"question\"])\n",
    "            user_answer = input(\"Your answer: \").strip().lower()\n",
    "            return user_answer\n",
    "        def check_answer(user_answer, correct_answer):\n",
    "            if user_answer == correct_answer.lower():\n",
    "                print(\"Correct!\")\n",
    "                return True\n",
    "            else:\n",
    "                print(f\"Incorrect. The correct answer is: {correct_answer}\")\n",
    "                return False\n",
    "                \n",
    "        def display_score(total_questions, correct_answers):\n",
    "            print(\"\\nQuiz Summary:\")\n",
    "            print(f\"Total Questions: {total_questions}\")\n",
    "            print(f\"Correct Answers: {correct_answers}\")\n",
    "            percentage = (correct_answers / total_questions) * 100\n",
    "            print(f\"Percentage: {percentage:.2f}%\")\n",
    "            \n",
    "        def exec_questions(questions):\n",
    "            total_questions = len(questions)\n",
    "            correct_answers = 0\n",
    "            for question in questions:\n",
    "                user_answer = ask_question(question)\n",
    "                if check_answer(user_answer, question[\"answer\"]):\n",
    "                    correct_answers += 1\n",
    "            display_score(total_questions, correct_answers)\n",
    "        def play_game():\n",
    "            print(\"Welcome to the General Knowledge Quiz Game!\")\n",
    "            try:\n",
    "                while True:\n",
    "                    category_choice = ask_category()\n",
    "                    if category_choice == 1:\n",
    "                        exec_questions(science_questions)\n",
    "                    elif category_choice == 2:\n",
    "                        exec_questions(math_questions)\n",
    "                    elif category_choice == 3:\n",
    "                        exec_questions(geography_questions)\n",
    "                    elif category_choice == 4:\n",
    "                        exec_questions(others_questions)\n",
    "                    else:\n",
    "                        print(\"Invalid choice! Please try again.\")\n",
    "                    play_again = input(\"\\nDo you want to play again? (yes/no): \").strip().lower()\n",
    "                    if play_again != \"yes\":\n",
    "                        break\n",
    "            except Exception as e:\n",
    "                print(f\"An error occurred: {e}\")\n",
    "        if __name__ == \"__main__\":\n",
    "            play_game()\n",
    "            print(\"\\nThank you for playing the General Knowledge Quiz Game!\")\n",
    "\n",
    "    @staticmethod\n",
    "    def play_rps_with_computer():\n",
    "        print(\"Executing Rock-Paper-Scissors Game with Computer...\")\n",
    "        def get_computer_choice():# Generates a random choice for the computer (Player 1).\n",
    "            return random.choice(['rock', 'paper', 'scissors'])\n",
    "        def get_user_choice():\n",
    "            while True:\n",
    "                user_choice = input(\"Choose Rock, Paper, or Scissors: \").lower()\n",
    "                if user_choice in ['rock', 'paper', 'scissors']:\n",
    "                    return user_choice\n",
    "                else:\n",
    "                    print(\"Invalid choice. Please try again.\")\n",
    "        def determine_winner(user_choice, computer_choice):\n",
    "            if user_choice == computer_choice:\n",
    "                return \"Tie\"\n",
    "            elif user_choice == \"rock\":\n",
    "                if computer_choice == \"scissors\":\n",
    "                    return \"You Win!\"\n",
    "                else:\n",
    "                    return \"You Lose!\"\n",
    "            elif user_choice == \"paper\":\n",
    "                if computer_choice == \"rock\":\n",
    "                    return \"You Win!\"\n",
    "                else:\n",
    "                    return \"You Lose!\"\n",
    "            elif user_choice == \"scissors\":\n",
    "                if computer_choice == \"paper\":\n",
    "                    return \"You Win!\"\n",
    "                else:\n",
    "                    return \"You Lose!\"\n",
    "        def play_again():\n",
    "            while True:\n",
    "                choice = input(\"Play again? (y/n): \").lower()\n",
    "                if choice == 'y':\n",
    "                    return True\n",
    "                elif choice == 'n':\n",
    "                    return False\n",
    "                else:\n",
    "                    print(\"Invalid input. Please enter 'y' or 'n'.\")\n",
    "        def main():\n",
    "            while True:\n",
    "                computer_choice = get_computer_choice()\n",
    "                user_choice = get_user_choice()\n",
    "                winner = determine_winner(user_choice, computer_choice)\n",
    "                \n",
    "                print(f\"\\nPlayer 1 (Computer): {computer_choice}\")\n",
    "                print(f\"Player 2 (You): {user_choice}\")\n",
    "                print(winner)\n",
    "                if not play_again():\n",
    "                    break\n",
    "        if __name__ == \"__main__\":\n",
    "            main()\n",
    "\n",
    "    @staticmethod\n",
    "    def play_rps_with_user():\n",
    "        print(\"Executing Rock-Paper-Scissors Game with User...\")\n",
    "        def get_player_choice(player_name):\n",
    "            while True:\n",
    "                choice = input(f\"{player_name}, enter your choice (rock/paper/scissors): \").lower()\n",
    "                if choice in ['rock', 'paper', 'scissors']:\n",
    "                    return choice\n",
    "                else:\n",
    "                    print(\"Invalid choice. Please try again.\")\n",
    "        def determine_winner(choice1, choice2):\n",
    "            if choice1 == choice2:\n",
    "                return \"It's a tie!\"\n",
    "            elif (\n",
    "                (choice1 == 'rock' and choice2 == 'scissors') or\n",
    "                (choice1 == 'paper' and choice2 == 'rock') or\n",
    "                (choice1 == 'scissors' and choice2 == 'paper')\n",
    "            ):\n",
    "                return \"Player 1 wins!\"\n",
    "            else:\n",
    "                return \"Player 2 wins!\"\n",
    "        def play_game():\n",
    "            player1_name = input(\"Enter name for Player 1: \")\n",
    "            player2_name = input(\"Enter name for Player 2: \")\n",
    "            \n",
    "            print(\"\\nMake your choices:\")\n",
    "            player1_choice = get_player_choice(player1_name)\n",
    "            player2_choice = get_player_choice(player2_name)\n",
    "            \n",
    "            print(\"\\nChoices of the gamers:\")\n",
    "            print(f\"{player1_name} chose: {player1_choice}\")\n",
    "            print(f\"{player2_name} chose: {player2_choice}\")\n",
    "            \n",
    "            result = determine_winner(player1_choice, player2_choice)\n",
    "            \n",
    "            if result == \"Player 1 wins!\":\n",
    "                print(f\"\\n{player1_name} wins!\")\n",
    "            elif result == \"Player 2 wins!\":\n",
    "                print(f\"\\n{player2_name} wins!\")\n",
    "            else:\n",
    "                print(\"\\nIt's a tie!\")\n",
    "        if __name__ == \"__main__\":\n",
    "            print(\"Welcome to Rock-Paper-Scissors!\")\n",
    "            play_game()\n",
    "\n",
    "    @staticmethod\n",
    "    def play_word_guessing_with_computer():\n",
    "        print(\"Executing Word-Guessing Game with Computer...\")\n",
    "        word_list = [\"apple\", \"banana\", \"cherry\", \"orange\", \"grape\", \"pineapple\", \"strawbperry\", \"blueberry\", \"raspberry\"]\n",
    "        \n",
    "        def select_word():\n",
    "            return random.choice(word_list)\n",
    "            \n",
    "        def display_word_length(word):\n",
    "            print(f\"The word has {len(word)} letters.\")\n",
    "            \n",
    "        def guess_word(secret_word):\n",
    "            guesses = 0\n",
    "            max_guesses = 5\n",
    "            guessed = False\n",
    "            guessed_letters = []\n",
    "            \n",
    "            print(\"Welcome to the Word Guessing Game!\")\n",
    "            print(\"You have 5 attempts to guess the word.\")\n",
    "            display_word_length(secret_word)\n",
    "            \n",
    "            while guesses < max_guesses and not guessed:\n",
    "                print(\"\\nAttempts left:\", max_guesses - guesses)\n",
    "                guess = input(\"Enter your guess (a single letter or the whole word): \").lower()\n",
    "                \n",
    "                if guess == secret_word:\n",
    "                    guessed = True\n",
    "                elif len(guess) == 1 and guess.isalpha():\n",
    "                    if guess in guessed_letters:\n",
    "                        print(\"You've already guessed that letter. Try again.\")\n",
    "                        continue\n",
    "                    guessed_letters.append(guess)\n",
    "                    if guess in secret_word:\n",
    "                        print(\"Correct letter!\")\n",
    "                    else:\n",
    "                        print(\"Incorrect letter.\")\n",
    "                else:\n",
    "                    print(\"Invalid input. Please enter a valid single letter or the whole word.\")\n",
    "                guesses += 1\n",
    "            if guessed:\n",
    "                print(f\"\\nCongratulations! You guessed the word '{secret_word}' correctly!\")\n",
    "            else:\n",
    "                print(f\"\\nSorry, you've run out of attempts. The word was '{secret_word}'.\")\n",
    "                \n",
    "        def main():\n",
    "            secret_word = select_word()\n",
    "            guess_word(secret_word)\n",
    "            \n",
    "        if __name__ == \"__main__\":\n",
    "            main()\n",
    "\n",
    "\n",
    "\n",
    "def main():\n",
    "    while True:\n",
    "        GameMenu.menu()\n",
    "        try:\n",
    "            choice = int(input(\"Enter your choice (1-6): \"))\n",
    "            if choice == 1:\n",
    "                GameMenu.play_riddle_puzzle()\n",
    "            elif choice == 2:\n",
    "                GameMenu.play_arithmetic_puzzle()\n",
    "            elif choice == 3:\n",
    "                GameMenu.play_general_knowledge_quiz()\n",
    "            elif choice == 4:\n",
    "                GameMenu.play_rps_with_computer()\n",
    "            elif choice == 5:\n",
    "                GameMenu.play_rps_with_user()\n",
    "            elif choice == 6:\n",
    "                GameMenu.play_word_guessing_with_computer()\n",
    "            else:\n",
    "                print(\"You have entered the wrong option.\")\n",
    "\n",
    "        except ValueError:\n",
    "            print(\"Invalid input. Please enter a number.\")\n",
    "\n",
    "        play_again = input(\"Do you want to play another game? (Y/y for yes, N/n for no): \").lower()\n",
    "        if play_again != 'y':\n",
    "            break\n",
    "\n",
    "if __name__ == \"__main__\":\n",
    "    main()\n",
    "\n",
    "#Interpretation:  This python code is the combination of all the six games,prompts the user to choose among the game menu of 6 games \n",
    "#and it implements the game based on the choice and provides feedback according to game choice and allows multiple rounds of play."
   ]
  },
  {
   "cell_type": "code",
   "execution_count": null,
   "id": "54e8cf05-272e-4ea8-8666-829db2ab5db8",
   "metadata": {},
   "outputs": [],
   "source": []
  }
 ],
 "metadata": {
  "kernelspec": {
   "display_name": "Python 3 (ipykernel)",
   "language": "python",
   "name": "python3"
  },
  "language_info": {
   "codemirror_mode": {
    "name": "ipython",
    "version": 3
   },
   "file_extension": ".py",
   "mimetype": "text/x-python",
   "name": "python",
   "nbconvert_exporter": "python",
   "pygments_lexer": "ipython3",
   "version": "3.11.7"
  }
 },
 "nbformat": 4,
 "nbformat_minor": 5
}
